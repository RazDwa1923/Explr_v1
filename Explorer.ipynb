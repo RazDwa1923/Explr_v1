{
 "cells": [
  {
   "cell_type": "code",
   "execution_count": null,
   "outputs": [],
   "source": [],
   "metadata": {
    "collapsed": false,
    "ExecuteTime": {
     "end_time": "2023-10-29T09:02:03.374789Z",
     "start_time": "2023-10-29T09:02:03.372309Z"
    }
   },
   "id": "8332fb9731d56fc3"
  },
  {
   "cell_type": "markdown",
   "source": [
    "# Creating DeFi Explorer\n",
    "\n",
    "##### The DeFi explorer is an online tool that helps DeFi investors to view possible stablecoin pools leveraging the Streamlit package to create a data app. The tool will specifically showcase the SoDeFi pool scoring mechanism\n",
    "\n",
    "**_Objective_**: Create a data app that allows users to view possible stablecoin pools\n",
    "\n",
    "**_Methodology_**: The app will be based on data created by the SoDeFi pool scoring mechanism. The data will be stored in a csv file and will be read into the app using the pandas package. The app will be created using the streamlit package.\n",
    "\n",
    "**_Hosting_**: The app will be hosted on Heroku and integrated into the SoDeFi website"
   ],
   "metadata": {
    "collapsed": false
   },
   "id": "65d48bd49f0ff915"
  },
  {
   "cell_type": "code",
   "execution_count": 1,
   "outputs": [
    {
     "name": "stdout",
     "output_type": "stream",
     "text": [
      "Intel MKL WARNING: Support of Intel(R) Streaming SIMD Extensions 4.2 (Intel(R) SSE4.2) enabled only processors has been deprecated. Intel oneAPI Math Kernel Library 2025.0 will require Intel(R) Advanced Vector Extensions (Intel(R) AVX) instructions.\n",
      "Intel MKL WARNING: Support of Intel(R) Streaming SIMD Extensions 4.2 (Intel(R) SSE4.2) enabled only processors has been deprecated. Intel oneAPI Math Kernel Library 2025.0 will require Intel(R) Advanced Vector Extensions (Intel(R) AVX) instructions.\n"
     ]
    }
   ],
   "source": [
    "import streamlit as st\n",
    "import pandas as pd\n",
    "\n",
    "#creating a dataframe bringing the Pool data from a csv file\n",
    "data = pd.read_csv(\"/Users/karolk/Python_Work/Data_Sets/Pool_Standings/pool_league_stable.csv\", index_col=0)\n",
    "pd.options.display.float_format = '{:,.2f}'.format\n",
    "\n",
    "#Modifyinng the dataframe to include a smaller set of columns. The columns are: chain, project, symbol, tvlUsd, tvlChange1d, apy, payment, SD_score, SD_Score_7D\n",
    "data = data[['chain', 'project', 'symbol', 'tvlUsd', 'tvlChange1d', 'tvlChange7d', 'apy', 'apyMean7d', 'apyStd7d' , 'apy7DStdRatio','SD_Score', 'SD_Score_7D_avg']]"
   ],
   "metadata": {
    "collapsed": false,
    "ExecuteTime": {
     "end_time": "2023-10-29T09:02:08.577503Z",
     "start_time": "2023-10-29T09:02:03.380641Z"
    }
   },
   "id": "1e9358864edb9320"
  },
  {
   "cell_type": "code",
   "execution_count": 2,
   "outputs": [],
   "source": [
    "#modifying the columns names to be more user-friendly\n",
    "data.columns = ['Chain', 'Project', 'Token', 'TVL (USD in Millions)', 'TVL Change 1D (%)', 'TVL Change 7D (%)', 'APY (%)', 'APY 7D Average (%)', 'APY Std Deviation 7D (%)', 'SoDeFi Risk/Reward Ratio', 'SoDeFi Score', 'SoDeFi Score 7D Avg']\n",
    "\n",
    "#changing the TVL into millions by dividing the TVL by 1000000\n",
    "data['TVL (USD in Millions)'] = data['TVL (USD in Millions)']/1000000\n",
    "\n",
    "#change the SoDeFi Risk Reward ration to 0 where the APY Std Deviation 7D is 0\n",
    "data.loc[data['APY Std Deviation 7D (%)'] == 0, 'SoDeFi Risk/Reward Ratio'] = 0\n",
    "\n",
    "#exclude all pools with TVL less than 500 thousand\n",
    "data = data[data['TVL (USD in Millions)'] > 0.500]\n",
    "\n",
    "#sort data by soDeFi Score\n",
    "data = data.sort_values(by=['SoDeFi Score'], ascending=False)"
   ],
   "metadata": {
    "collapsed": false,
    "ExecuteTime": {
     "end_time": "2023-10-29T09:02:08.585822Z",
     "start_time": "2023-10-29T09:02:08.581128Z"
    }
   },
   "id": "f60e3fa0f8a9f6e6"
  },
  {
   "cell_type": "code",
   "execution_count": 3,
   "outputs": [],
   "source": [
    "#create a varable for today's date\n",
    "today = pd.to_datetime('today').strftime('%Y-%m-%d')\n",
    "\n",
    "#create a text which says 'SoDeFi Pool Explorer updated as of [today's date]'\n",
    "date_text = 'SoDeFi Pool Explorer updated as of ' + today\n"
   ],
   "metadata": {
    "collapsed": false,
    "ExecuteTime": {
     "end_time": "2023-10-29T09:02:08.591015Z",
     "start_time": "2023-10-29T09:02:08.587872Z"
    }
   },
   "id": "7e70fb6a5c58edb7"
  },
  {
   "cell_type": "code",
   "execution_count": 4,
   "outputs": [
    {
     "name": "stderr",
     "output_type": "stream",
     "text": [
      "2023-10-29 17:02:08.693 \n",
      "  \u001B[33m\u001B[1mWarning:\u001B[0m to view this Streamlit app on a browser, run it with the following\n",
      "  command:\n",
      "\n",
      "    streamlit run /Users/karolk/anaconda3/envs/Explorer_v1/lib/python3.11/site-packages/ipykernel_launcher.py [ARGUMENTS]\n"
     ]
    },
    {
     "data": {
      "text/plain": "DeltaGenerator()"
     },
     "execution_count": 4,
     "metadata": {},
     "output_type": "execute_result"
    }
   ],
   "source": [
    "#Write the dataframe to the app. The app should be a dataframe table with the columns above and the data below. The table should be sortable using Streamlit.\n",
    "\n",
    "#configure the page\n",
    "\n",
    "st.set_page_config(\n",
    "    page_title=\"SoDeFi Pool Explorer\",\n",
    "    page_icon=\":shark:\",\n",
    "    layout=\"wide\",\n",
    "    initial_sidebar_state=\"expanded\",\n",
    "    menu_items={\n",
    "        'Get Help': 'https://www.extremelycoolapp.com/help',\n",
    "        'Report a bug': \"https://www.extremelycoolapp.com/bug\",\n",
    "    }\n",
    ")\n",
    "\n",
    "#write stream lit header\n",
    "st.title(\"SoDeFi Pool Explorer\")\n",
    "st.header(\"Data Inspired DeFi Investment\")\n",
    "st.subheader(\"SoDeFi Pool Explorer is designed to sort through the \")\n",
    "st.text('Methodology: SoDeFi Pool Scoring Mechanism')\n",
    "st.text(date_text)\n",
    "\n",
    "#write the dataframe to the app\n",
    "st.dataframe(data, hide_index=True, use_container_width=True,\n",
    "             column_config={'Chain': st.column_config.TextColumn(help=\"medium\", width='medium'),\n",
    "                            'Project': st.column_config.TextColumn(help=\"medium\", width='medium'),\n",
    "                            'Token': st.column_config.TextColumn(help=\"jjs\", width='medium'),\n",
    "                            'TVL (USD in Millions)': st.column_config.NumberColumn(format=\"$ %.1f\", help=\"small\", width='medium'),\n",
    "                            'TVL Change 1D (%)': st.column_config.NumberColumn(format=\"%.2f\", help=\"small\", width='medium'),\n",
    "                            'TVL Change 7D (%)': st.column_config.NumberColumn(format=\"%.2f\", help=\"small\", width='medium'),\n",
    "                            'APY (%)': st.column_config.NumberColumn(format=\"%.1f\", help=\"small\", width='medium'),\n",
    "                            'APY 7D Average (%)': st.column_config.NumberColumn(format=\"%.1f\", help=\"small\", width='medium'),\n",
    "                            'APY Std Deviation 7D (%)': st.column_config.NumberColumn(format=\"%.1f\", help='medium', width='medium'),\n",
    "                            'SoDeFi Risk/Reward Ratio': st.column_config.NumberColumn(format=\"%.1f\", help=\"small\", width='medium'),\n",
    "                            'SoDeFi Score': st.column_config.NumberColumn(format=\"%.1f\", help=\"small\", width='medium'),\n",
    "                            'SoDeFi Score 7D Avg': st.column_config.NumberColumn(format=\"%.1f\", help=\"small\", width='medium')},\n",
    "             column_order=( 'SoDeFi Score','Chain','Project',\n",
    "                            'Token', 'TVL (USD in Millions)', 'APY (%)',\n",
    "                            'TVL Change 1D (%)', 'TVL Change 7D (%)',\n",
    "                            'APY 7D Average (%)', 'APY Std Deviation 7D (%)',\n",
    "                            'SoDeFi Risk/Reward Ratio',))\n",
    "\n",
    "st.text(\"Data Source: DeFiLlama API\")\n",
    "\n"
   ],
   "metadata": {
    "collapsed": false,
    "ExecuteTime": {
     "end_time": "2023-10-29T09:02:08.740172Z",
     "start_time": "2023-10-29T09:02:08.596859Z"
    }
   },
   "id": "bbb7e9fa5bc9c708"
  }
 ],
 "metadata": {
  "kernelspec": {
   "display_name": "Python 3",
   "language": "python",
   "name": "python3"
  },
  "language_info": {
   "codemirror_mode": {
    "name": "ipython",
    "version": 2
   },
   "file_extension": ".py",
   "mimetype": "text/x-python",
   "name": "python",
   "nbconvert_exporter": "python",
   "pygments_lexer": "ipython2",
   "version": "2.7.6"
  }
 },
 "nbformat": 4,
 "nbformat_minor": 5
}
